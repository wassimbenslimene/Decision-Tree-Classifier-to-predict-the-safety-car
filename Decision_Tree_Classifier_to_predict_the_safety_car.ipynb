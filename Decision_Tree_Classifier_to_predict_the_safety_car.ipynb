{
  "nbformat": 4,
  "nbformat_minor": 0,
  "metadata": {
    "kernelspec": {
      "language": "python",
      "display_name": "Python 3",
      "name": "python3"
    },
    "language_info": {
      "pygments_lexer": "ipython3",
      "nbconvert_exporter": "python",
      "version": "3.6.4",
      "file_extension": ".py",
      "codemirror_mode": {
        "name": "ipython",
        "version": 3
      },
      "name": "python",
      "mimetype": "text/x-python"
    },
    "colab": {
      "name": "Decision Tree Classifier to predict the safety car.ipynb",
      "provenance": [],
      "include_colab_link": true
    }
  },
  "cells": [
    {
      "cell_type": "markdown",
      "metadata": {
        "id": "view-in-github",
        "colab_type": "text"
      },
      "source": [
        "<a href=\"https://colab.research.google.com/github/wassimbenslimene/Decision-Tree-Classifier-to-predict-the-safety-car/blob/master/Decision_Tree_Classifier_to_predict_the_safety_car.ipynb\" target=\"_parent\"><img src=\"https://colab.research.google.com/assets/colab-badge.svg\" alt=\"Open In Colab\"/></a>"
      ]
    },
    {
      "cell_type": "code",
      "metadata": {
        "_uuid": "d629ff2d2480ee46fbb7e2d37f6b5fab8052498a",
        "_cell_guid": "79c7e3d0-c299-4dcb-8224-4455121ee9b0",
        "trusted": true,
        "id": "waOmoHOs1ehX",
        "colab_type": "code",
        "outputId": "1829f098-7270-496c-e77e-2a7b73f7e0f3",
        "colab": {
          "base_uri": "https://localhost:8080/",
          "height": 204
        }
      },
      "source": [
        "import pandas as pd\n",
        "import numpy as np\n",
        "import matplotlib.pyplot as plt\n",
        "data = pd.read_csv('carvvv.csv', sep=\",\")\n",
        "data.head()\n"
      ],
      "execution_count": 15,
      "outputs": [
        {
          "output_type": "execute_result",
          "data": {
            "text/html": [
              "<div>\n",
              "<style scoped>\n",
              "    .dataframe tbody tr th:only-of-type {\n",
              "        vertical-align: middle;\n",
              "    }\n",
              "\n",
              "    .dataframe tbody tr th {\n",
              "        vertical-align: top;\n",
              "    }\n",
              "\n",
              "    .dataframe thead th {\n",
              "        text-align: right;\n",
              "    }\n",
              "</style>\n",
              "<table border=\"1\" class=\"dataframe\">\n",
              "  <thead>\n",
              "    <tr style=\"text-align: right;\">\n",
              "      <th></th>\n",
              "      <th>Buying</th>\n",
              "      <th>Maint</th>\n",
              "      <th>Doors</th>\n",
              "      <th>Persons</th>\n",
              "      <th>Lug_boot</th>\n",
              "      <th>Safety</th>\n",
              "      <th>Class</th>\n",
              "    </tr>\n",
              "  </thead>\n",
              "  <tbody>\n",
              "    <tr>\n",
              "      <th>0</th>\n",
              "      <td>vhigh</td>\n",
              "      <td>vhigh</td>\n",
              "      <td>2</td>\n",
              "      <td>2</td>\n",
              "      <td>small</td>\n",
              "      <td>low</td>\n",
              "      <td>unacc</td>\n",
              "    </tr>\n",
              "    <tr>\n",
              "      <th>1</th>\n",
              "      <td>vhigh</td>\n",
              "      <td>vhigh</td>\n",
              "      <td>2</td>\n",
              "      <td>2</td>\n",
              "      <td>small</td>\n",
              "      <td>med</td>\n",
              "      <td>unacc</td>\n",
              "    </tr>\n",
              "    <tr>\n",
              "      <th>2</th>\n",
              "      <td>vhigh</td>\n",
              "      <td>vhigh</td>\n",
              "      <td>2</td>\n",
              "      <td>2</td>\n",
              "      <td>small</td>\n",
              "      <td>high</td>\n",
              "      <td>unacc</td>\n",
              "    </tr>\n",
              "    <tr>\n",
              "      <th>3</th>\n",
              "      <td>vhigh</td>\n",
              "      <td>vhigh</td>\n",
              "      <td>2</td>\n",
              "      <td>2</td>\n",
              "      <td>med</td>\n",
              "      <td>low</td>\n",
              "      <td>unacc</td>\n",
              "    </tr>\n",
              "    <tr>\n",
              "      <th>4</th>\n",
              "      <td>vhigh</td>\n",
              "      <td>vhigh</td>\n",
              "      <td>2</td>\n",
              "      <td>2</td>\n",
              "      <td>med</td>\n",
              "      <td>med</td>\n",
              "      <td>unacc</td>\n",
              "    </tr>\n",
              "  </tbody>\n",
              "</table>\n",
              "</div>"
            ],
            "text/plain": [
              "  Buying  Maint Doors Persons Lug_boot Safety  Class\n",
              "0  vhigh  vhigh     2       2    small    low  unacc\n",
              "1  vhigh  vhigh     2       2    small    med  unacc\n",
              "2  vhigh  vhigh     2       2    small   high  unacc\n",
              "3  vhigh  vhigh     2       2      med    low  unacc\n",
              "4  vhigh  vhigh     2       2      med    med  unacc"
            ]
          },
          "metadata": {
            "tags": []
          },
          "execution_count": 15
        }
      ]
    },
    {
      "cell_type": "code",
      "metadata": {
        "trusted": true,
        "id": "xBAIrTw81ehc",
        "colab_type": "code",
        "colab": {}
      },
      "source": [
        "X = data.drop(['Lug_boot','Safety','Class'], axis=1)\n",
        " \n",
        "\n",
        "y = data['Class']"
      ],
      "execution_count": 0,
      "outputs": []
    },
    {
      "cell_type": "code",
      "metadata": {
        "trusted": true,
        "id": "Ywi8HXEY1ehg",
        "colab_type": "code",
        "colab": {}
      },
      "source": [
        "# split X and y into training and testing sets\n",
        "\n",
        "from sklearn.model_selection import train_test_split\n",
        "\n",
        "X_train, X_test, y_train, y_test = train_test_split(X, y, test_size = 0.30 )"
      ],
      "execution_count": 0,
      "outputs": []
    },
    {
      "cell_type": "code",
      "metadata": {
        "trusted": true,
        "id": "BQd6xdy91ehk",
        "colab_type": "code",
        "outputId": "4ae9d302-16fc-418e-8f19-27de72a81d42",
        "colab": {
          "base_uri": "https://localhost:8080/",
          "height": 258
        }
      },
      "source": [
        "import category_encoders as ce\n",
        "# encode variables with ordinal encoding\n",
        "\n",
        "encoder = ce.OrdinalEncoder(cols=['Buying', 'Maint', 'Doors', 'Persons'])\n",
        "\n",
        "\n",
        "X_train = encoder.fit_transform(X_train)\n",
        "\n",
        "X_test = encoder.transform(X_test)\n",
        "X_train.head()"
      ],
      "execution_count": 18,
      "outputs": [
        {
          "output_type": "stream",
          "text": [
            "/usr/local/lib/python3.6/dist-packages/statsmodels/tools/_testing.py:19: FutureWarning: pandas.util.testing is deprecated. Use the functions in the public API at pandas.testing instead.\n",
            "  import pandas.util.testing as tm\n"
          ],
          "name": "stderr"
        },
        {
          "output_type": "execute_result",
          "data": {
            "text/html": [
              "<div>\n",
              "<style scoped>\n",
              "    .dataframe tbody tr th:only-of-type {\n",
              "        vertical-align: middle;\n",
              "    }\n",
              "\n",
              "    .dataframe tbody tr th {\n",
              "        vertical-align: top;\n",
              "    }\n",
              "\n",
              "    .dataframe thead th {\n",
              "        text-align: right;\n",
              "    }\n",
              "</style>\n",
              "<table border=\"1\" class=\"dataframe\">\n",
              "  <thead>\n",
              "    <tr style=\"text-align: right;\">\n",
              "      <th></th>\n",
              "      <th>Buying</th>\n",
              "      <th>Maint</th>\n",
              "      <th>Doors</th>\n",
              "      <th>Persons</th>\n",
              "    </tr>\n",
              "  </thead>\n",
              "  <tbody>\n",
              "    <tr>\n",
              "      <th>434</th>\n",
              "      <td>1</td>\n",
              "      <td>1</td>\n",
              "      <td>1</td>\n",
              "      <td>1</td>\n",
              "    </tr>\n",
              "    <tr>\n",
              "      <th>139</th>\n",
              "      <td>2</td>\n",
              "      <td>2</td>\n",
              "      <td>2</td>\n",
              "      <td>1</td>\n",
              "    </tr>\n",
              "    <tr>\n",
              "      <th>1710</th>\n",
              "      <td>3</td>\n",
              "      <td>3</td>\n",
              "      <td>3</td>\n",
              "      <td>2</td>\n",
              "    </tr>\n",
              "    <tr>\n",
              "      <th>44</th>\n",
              "      <td>2</td>\n",
              "      <td>1</td>\n",
              "      <td>2</td>\n",
              "      <td>2</td>\n",
              "    </tr>\n",
              "    <tr>\n",
              "      <th>1263</th>\n",
              "      <td>4</td>\n",
              "      <td>3</td>\n",
              "      <td>4</td>\n",
              "      <td>3</td>\n",
              "    </tr>\n",
              "  </tbody>\n",
              "</table>\n",
              "</div>"
            ],
            "text/plain": [
              "      Buying  Maint  Doors  Persons\n",
              "434        1      1      1        1\n",
              "139        2      2      2        1\n",
              "1710       3      3      3        2\n",
              "44         2      1      2        2\n",
              "1263       4      3      4        3"
            ]
          },
          "metadata": {
            "tags": []
          },
          "execution_count": 18
        }
      ]
    },
    {
      "cell_type": "code",
      "metadata": {
        "trusted": true,
        "id": "lNvl0XMO1ehp",
        "colab_type": "code",
        "colab": {}
      },
      "source": [
        "# instantiate the DecisionTreeClassifier model with criterion entropy\n",
        "from sklearn.tree import DecisionTreeClassifier\n",
        "clf_en = DecisionTreeClassifier(criterion='entropy', max_depth=8, random_state=0)\n",
        "\n",
        "\n",
        "# fit the model\n",
        "clf_en.fit(X_train, y_train)\n",
        "y_pred_en = clf_en.predict(X_test)"
      ],
      "execution_count": 0,
      "outputs": []
    },
    {
      "cell_type": "code",
      "metadata": {
        "trusted": true,
        "id": "kVa9Gb2L1eht",
        "colab_type": "code",
        "colab": {
          "base_uri": "https://localhost:8080/",
          "height": 34
        },
        "outputId": "717017f8-3e8f-4522-c079-1a9826b50869"
      },
      "source": [
        "from sklearn.metrics import accuracy_score\n",
        "\n",
        "print('Model accuracy score with criterion entropy: {0:0.4f}'. format(accuracy_score(y_test, y_pred_en)))"
      ],
      "execution_count": 20,
      "outputs": [
        {
          "output_type": "stream",
          "text": [
            "Model accuracy score with criterion entropy: 0.6628\n"
          ],
          "name": "stdout"
        }
      ]
    },
    {
      "cell_type": "code",
      "metadata": {
        "trusted": true,
        "id": "Ai1qEY7h1ehy",
        "colab_type": "code",
        "colab": {
          "base_uri": "https://localhost:8080/",
          "height": 1000
        },
        "outputId": "1c6fd3e9-44c6-49d0-d253-1da88f7ac0a9"
      },
      "source": [
        "plt.figure(figsize=(12,8))\n",
        "\n",
        "from sklearn import tree\n",
        "\n",
        "tree.plot_tree(clf_en.fit(X_train, y_train)) "
      ],
      "execution_count": 21,
      "outputs": [
        {
          "output_type": "execute_result",
          "data": {
            "text/plain": [
              "[Text(242.75926573426574, 410.71999999999997, 'X[3] <= 1.5\\nentropy = 1.227\\nsamples = 1209\\nvalue = [269, 53, 840, 47]'),\n",
              " Text(238.07674825174826, 362.4, 'entropy = 0.0\\nsamples = 404\\nvalue = [0, 0, 404, 0]'),\n",
              " Text(247.44178321678322, 362.4, 'X[0] <= 2.5\\nentropy = 1.505\\nsamples = 805\\nvalue = [269, 53, 436, 47]'),\n",
              " Text(71.40839160839161, 314.08, 'X[1] <= 1.5\\nentropy = 0.915\\nsamples = 400\\nvalue = [132, 0, 268, 0]'),\n",
              " Text(66.72587412587413, 265.76, 'entropy = 0.0\\nsamples = 97\\nvalue = [0, 0, 97, 0]'),\n",
              " Text(76.0909090909091, 265.76, 'X[1] <= 2.5\\nentropy = 0.988\\nsamples = 303\\nvalue = [132, 0, 171, 0]'),\n",
              " Text(25.753846153846155, 217.44, 'X[0] <= 1.5\\nentropy = 0.841\\nsamples = 100\\nvalue = [27, 0, 73, 0]'),\n",
              " Text(21.071328671328672, 169.12, 'X[2] <= 1.5\\nentropy = 0.999\\nsamples = 52\\nvalue = [27, 0, 25, 0]'),\n",
              " Text(9.365034965034965, 120.80000000000001, 'X[3] <= 2.5\\nentropy = 0.918\\nsamples = 12\\nvalue = [4, 0, 8, 0]'),\n",
              " Text(4.682517482517483, 72.48000000000002, 'entropy = 0.918\\nsamples = 6\\nvalue = [2, 0, 4, 0]'),\n",
              " Text(14.047552447552448, 72.48000000000002, 'entropy = 0.918\\nsamples = 6\\nvalue = [2, 0, 4, 0]'),\n",
              " Text(32.77762237762238, 120.80000000000001, 'X[3] <= 2.5\\nentropy = 0.984\\nsamples = 40\\nvalue = [23, 0, 17, 0]'),\n",
              " Text(23.412587412587413, 72.48000000000002, 'X[2] <= 2.5\\nentropy = 0.998\\nsamples = 19\\nvalue = [9, 0, 10, 0]'),\n",
              " Text(18.73006993006993, 24.159999999999968, 'entropy = 0.918\\nsamples = 6\\nvalue = [2, 0, 4, 0]'),\n",
              " Text(28.095104895104896, 24.159999999999968, 'entropy = 0.996\\nsamples = 13\\nvalue = [7, 0, 6, 0]'),\n",
              " Text(42.142657342657344, 72.48000000000002, 'X[2] <= 2.5\\nentropy = 0.918\\nsamples = 21\\nvalue = [14, 0, 7, 0]'),\n",
              " Text(37.46013986013986, 24.159999999999968, 'entropy = 0.65\\nsamples = 6\\nvalue = [5, 0, 1, 0]'),\n",
              " Text(46.82517482517483, 24.159999999999968, 'entropy = 0.971\\nsamples = 15\\nvalue = [9, 0, 6, 0]'),\n",
              " Text(30.436363636363637, 169.12, 'entropy = 0.0\\nsamples = 48\\nvalue = [0, 0, 48, 0]'),\n",
              " Text(126.42797202797203, 217.44, 'X[2] <= 1.5\\nentropy = 0.999\\nsamples = 203\\nvalue = [105, 0, 98, 0]'),\n",
              " Text(88.96783216783217, 169.12, 'X[3] <= 2.5\\nentropy = 0.973\\nsamples = 52\\nvalue = [21, 0, 31, 0]'),\n",
              " Text(70.23776223776224, 120.80000000000001, 'X[0] <= 1.5\\nentropy = 0.999\\nsamples = 25\\nvalue = [12, 0, 13, 0]'),\n",
              " Text(60.872727272727275, 72.48000000000002, 'X[1] <= 3.5\\nentropy = 0.946\\nsamples = 11\\nvalue = [4, 0, 7, 0]'),\n",
              " Text(56.19020979020979, 24.159999999999968, 'entropy = 0.954\\nsamples = 8\\nvalue = [3, 0, 5, 0]'),\n",
              " Text(65.55524475524476, 24.159999999999968, 'entropy = 0.918\\nsamples = 3\\nvalue = [1, 0, 2, 0]'),\n",
              " Text(79.6027972027972, 72.48000000000002, 'X[1] <= 3.5\\nentropy = 0.985\\nsamples = 14\\nvalue = [8, 0, 6, 0]'),\n",
              " Text(74.92027972027972, 24.159999999999968, 'entropy = 0.918\\nsamples = 6\\nvalue = [4, 0, 2, 0]'),\n",
              " Text(84.28531468531469, 24.159999999999968, 'entropy = 1.0\\nsamples = 8\\nvalue = [4, 0, 4, 0]'),\n",
              " Text(107.6979020979021, 120.80000000000001, 'X[1] <= 3.5\\nentropy = 0.918\\nsamples = 27\\nvalue = [9, 0, 18, 0]'),\n",
              " Text(98.33286713286714, 72.48000000000002, 'X[0] <= 1.5\\nentropy = 0.971\\nsamples = 15\\nvalue = [6, 0, 9, 0]'),\n",
              " Text(93.65034965034965, 24.159999999999968, 'entropy = 0.985\\nsamples = 7\\nvalue = [3, 0, 4, 0]'),\n",
              " Text(103.01538461538462, 24.159999999999968, 'entropy = 0.954\\nsamples = 8\\nvalue = [3, 0, 5, 0]'),\n",
              " Text(117.06293706293707, 72.48000000000002, 'X[0] <= 1.5\\nentropy = 0.811\\nsamples = 12\\nvalue = [3, 0, 9, 0]'),\n",
              " Text(112.38041958041958, 24.159999999999968, 'entropy = 0.811\\nsamples = 8\\nvalue = [2, 0, 6, 0]'),\n",
              " Text(121.74545454545455, 24.159999999999968, 'entropy = 0.811\\nsamples = 4\\nvalue = [1, 0, 3, 0]'),\n",
              " Text(163.8881118881119, 169.12, 'X[2] <= 2.5\\nentropy = 0.991\\nsamples = 151\\nvalue = [84, 0, 67, 0]'),\n",
              " Text(145.15804195804196, 120.80000000000001, 'X[3] <= 2.5\\nentropy = 0.997\\nsamples = 47\\nvalue = [25, 0, 22, 0]'),\n",
              " Text(135.793006993007, 72.48000000000002, 'X[0] <= 1.5\\nentropy = 0.999\\nsamples = 27\\nvalue = [13, 0, 14, 0]'),\n",
              " Text(131.11048951048951, 24.159999999999968, 'entropy = 0.985\\nsamples = 14\\nvalue = [6, 0, 8, 0]'),\n",
              " Text(140.47552447552448, 24.159999999999968, 'entropy = 0.996\\nsamples = 13\\nvalue = [7, 0, 6, 0]'),\n",
              " Text(154.52307692307693, 72.48000000000002, 'X[1] <= 3.5\\nentropy = 0.971\\nsamples = 20\\nvalue = [12, 0, 8, 0]'),\n",
              " Text(149.84055944055945, 24.159999999999968, 'entropy = 0.811\\nsamples = 8\\nvalue = [6, 0, 2, 0]'),\n",
              " Text(159.2055944055944, 24.159999999999968, 'entropy = 1.0\\nsamples = 12\\nvalue = [6, 0, 6, 0]'),\n",
              " Text(182.61818181818182, 120.80000000000001, 'X[0] <= 1.5\\nentropy = 0.987\\nsamples = 104\\nvalue = [59, 0, 45, 0]'),\n",
              " Text(173.25314685314686, 72.48000000000002, 'X[3] <= 2.5\\nentropy = 0.966\\nsamples = 51\\nvalue = [31, 0, 20, 0]'),\n",
              " Text(168.57062937062938, 24.159999999999968, 'entropy = 0.918\\nsamples = 24\\nvalue = [16, 0, 8, 0]'),\n",
              " Text(177.93566433566434, 24.159999999999968, 'entropy = 0.991\\nsamples = 27\\nvalue = [15, 0, 12, 0]'),\n",
              " Text(191.9832167832168, 72.48000000000002, 'X[2] <= 3.5\\nentropy = 0.998\\nsamples = 53\\nvalue = [28, 0, 25, 0]'),\n",
              " Text(187.3006993006993, 24.159999999999968, 'entropy = 0.992\\nsamples = 29\\nvalue = [16, 0, 13, 0]'),\n",
              " Text(196.66573426573427, 24.159999999999968, 'entropy = 1.0\\nsamples = 24\\nvalue = [12, 0, 12, 0]'),\n",
              " Text(423.47517482517486, 314.08, 'X[1] <= 2.5\\nentropy = 1.8\\nsamples = 405\\nvalue = [137, 53, 168, 47]'),\n",
              " Text(305.5342657342658, 265.76, 'X[0] <= 3.5\\nentropy = 1.238\\nsamples = 196\\nvalue = [88, 0, 98, 10]'),\n",
              " Text(241.14965034965036, 217.44, 'X[1] <= 1.5\\nentropy = 1.386\\nsamples = 92\\nvalue = [39, 0, 43, 10]'),\n",
              " Text(217.73706293706294, 169.12, 'X[2] <= 1.5\\nentropy = 0.959\\nsamples = 42\\nvalue = [16, 0, 26, 0]'),\n",
              " Text(206.03076923076924, 120.80000000000001, 'X[3] <= 2.5\\nentropy = 0.994\\nsamples = 11\\nvalue = [5, 0, 6, 0]'),\n",
              " Text(201.34825174825176, 72.48000000000002, 'entropy = 1.0\\nsamples = 6\\nvalue = [3, 0, 3, 0]'),\n",
              " Text(210.71328671328672, 72.48000000000002, 'entropy = 0.971\\nsamples = 5\\nvalue = [2, 0, 3, 0]'),\n",
              " Text(229.44335664335665, 120.80000000000001, 'X[2] <= 2.5\\nentropy = 0.938\\nsamples = 31\\nvalue = [11, 0, 20, 0]'),\n",
              " Text(220.0783216783217, 72.48000000000002, 'X[3] <= 2.5\\nentropy = 0.764\\nsamples = 9\\nvalue = [2, 0, 7, 0]'),\n",
              " Text(215.3958041958042, 24.159999999999968, 'entropy = 0.918\\nsamples = 6\\nvalue = [2, 0, 4, 0]'),\n",
              " Text(224.76083916083917, 24.159999999999968, 'entropy = 0.0\\nsamples = 3\\nvalue = [0, 0, 3, 0]'),\n",
              " Text(238.80839160839162, 72.48000000000002, 'X[3] <= 2.5\\nentropy = 0.976\\nsamples = 22\\nvalue = [9, 0, 13, 0]'),\n",
              " Text(234.12587412587413, 24.159999999999968, 'entropy = 0.881\\nsamples = 10\\nvalue = [3, 0, 7, 0]'),\n",
              " Text(243.4909090909091, 24.159999999999968, 'entropy = 1.0\\nsamples = 12\\nvalue = [6, 0, 6, 0]'),\n",
              " Text(264.56223776223777, 169.12, 'X[2] <= 1.5\\nentropy = 1.509\\nsamples = 50\\nvalue = [23, 0, 17, 10]'),\n",
              " Text(252.85594405594406, 120.80000000000001, 'X[3] <= 2.5\\nentropy = 1.485\\nsamples = 10\\nvalue = [3, 0, 5, 2]'),\n",
              " Text(248.17342657342658, 72.48000000000002, 'entropy = 1.5\\nsamples = 4\\nvalue = [2, 0, 1, 1]'),\n",
              " Text(257.53846153846155, 72.48000000000002, 'entropy = 1.252\\nsamples = 6\\nvalue = [1, 0, 4, 1]'),\n",
              " Text(276.2685314685315, 120.80000000000001, 'X[2] <= 2.5\\nentropy = 1.485\\nsamples = 40\\nvalue = [20, 0, 12, 8]'),\n",
              " Text(266.9034965034965, 72.48000000000002, 'X[3] <= 2.5\\nentropy = 1.189\\nsamples = 12\\nvalue = [8, 0, 3, 1]'),\n",
              " Text(262.22097902097903, 24.159999999999968, 'entropy = 0.65\\nsamples = 6\\nvalue = [5, 0, 1, 0]'),\n",
              " Text(271.586013986014, 24.159999999999968, 'entropy = 1.459\\nsamples = 6\\nvalue = [3, 0, 2, 1]'),\n",
              " Text(285.63356643356644, 72.48000000000002, 'X[3] <= 2.5\\nentropy = 1.55\\nsamples = 28\\nvalue = [12, 0, 9, 7]'),\n",
              " Text(280.95104895104896, 24.159999999999968, 'entropy = 1.522\\nsamples = 15\\nvalue = [6, 0, 6, 3]'),\n",
              " Text(290.3160839160839, 24.159999999999968, 'entropy = 1.526\\nsamples = 13\\nvalue = [6, 0, 3, 4]'),\n",
              " Text(369.91888111888113, 217.44, 'X[2] <= 2.5\\nentropy = 0.998\\nsamples = 104\\nvalue = [49, 0, 55, 0]'),\n",
              " Text(332.45874125874127, 169.12, 'X[3] <= 2.5\\nentropy = 0.976\\nsamples = 49\\nvalue = [20, 0, 29, 0]'),\n",
              " Text(313.72867132867134, 120.80000000000001, 'X[1] <= 1.5\\nentropy = 0.904\\nsamples = 25\\nvalue = [8, 0, 17, 0]'),\n",
              " Text(304.3636363636364, 72.48000000000002, 'X[2] <= 1.5\\nentropy = 0.961\\nsamples = 13\\nvalue = [5, 0, 8, 0]'),\n",
              " Text(299.6811188811189, 24.159999999999968, 'entropy = 0.918\\nsamples = 6\\nvalue = [2, 0, 4, 0]'),\n",
              " Text(309.04615384615386, 24.159999999999968, 'entropy = 0.985\\nsamples = 7\\nvalue = [3, 0, 4, 0]'),\n",
              " Text(323.0937062937063, 72.48000000000002, 'X[2] <= 1.5\\nentropy = 0.811\\nsamples = 12\\nvalue = [3, 0, 9, 0]'),\n",
              " Text(318.4111888111888, 24.159999999999968, 'entropy = 0.918\\nsamples = 6\\nvalue = [2, 0, 4, 0]'),\n",
              " Text(327.7762237762238, 24.159999999999968, 'entropy = 0.65\\nsamples = 6\\nvalue = [1, 0, 5, 0]'),\n",
              " Text(351.1888111888112, 120.80000000000001, 'X[1] <= 1.5\\nentropy = 1.0\\nsamples = 24\\nvalue = [12, 0, 12, 0]'),\n",
              " Text(341.82377622377624, 72.48000000000002, 'X[2] <= 1.5\\nentropy = 0.971\\nsamples = 10\\nvalue = [6, 0, 4, 0]'),\n",
              " Text(337.14125874125875, 24.159999999999968, 'entropy = 1.0\\nsamples = 6\\nvalue = [3, 0, 3, 0]'),\n",
              " Text(346.5062937062937, 24.159999999999968, 'entropy = 0.811\\nsamples = 4\\nvalue = [3, 0, 1, 0]'),\n",
              " Text(360.55384615384617, 72.48000000000002, 'X[2] <= 1.5\\nentropy = 0.985\\nsamples = 14\\nvalue = [6, 0, 8, 0]'),\n",
              " Text(355.8713286713287, 24.159999999999968, 'entropy = 0.954\\nsamples = 8\\nvalue = [3, 0, 5, 0]'),\n",
              " Text(365.23636363636365, 24.159999999999968, 'entropy = 1.0\\nsamples = 6\\nvalue = [3, 0, 3, 0]'),\n",
              " Text(407.379020979021, 169.12, 'X[3] <= 2.5\\nentropy = 0.998\\nsamples = 55\\nvalue = [29, 0, 26, 0]'),\n",
              " Text(388.64895104895106, 120.80000000000001, 'X[1] <= 1.5\\nentropy = 0.993\\nsamples = 31\\nvalue = [17, 0, 14, 0]'),\n",
              " Text(379.2839160839161, 72.48000000000002, 'X[2] <= 3.5\\nentropy = 0.985\\nsamples = 14\\nvalue = [8, 0, 6, 0]'),\n",
              " Text(374.6013986013986, 24.159999999999968, 'entropy = 0.918\\nsamples = 6\\nvalue = [4, 0, 2, 0]'),\n",
              " Text(383.9664335664336, 24.159999999999968, 'entropy = 1.0\\nsamples = 8\\nvalue = [4, 0, 4, 0]'),\n",
              " Text(398.013986013986, 72.48000000000002, 'X[2] <= 3.5\\nentropy = 0.998\\nsamples = 17\\nvalue = [9, 0, 8, 0]'),\n",
              " Text(393.33146853146854, 24.159999999999968, 'entropy = 1.0\\nsamples = 8\\nvalue = [4, 0, 4, 0]'),\n",
              " Text(402.6965034965035, 24.159999999999968, 'entropy = 0.991\\nsamples = 9\\nvalue = [5, 0, 4, 0]'),\n",
              " Text(426.1090909090909, 120.80000000000001, 'X[2] <= 3.5\\nentropy = 1.0\\nsamples = 24\\nvalue = [12, 0, 12, 0]'),\n",
              " Text(416.74405594405596, 72.48000000000002, 'X[1] <= 1.5\\nentropy = 0.971\\nsamples = 10\\nvalue = [4, 0, 6, 0]'),\n",
              " Text(412.0615384615385, 24.159999999999968, 'entropy = 0.985\\nsamples = 7\\nvalue = [3, 0, 4, 0]'),\n",
              " Text(421.42657342657344, 24.159999999999968, 'entropy = 0.918\\nsamples = 3\\nvalue = [1, 0, 2, 0]'),\n",
              " Text(435.4741258741259, 72.48000000000002, 'X[1] <= 1.5\\nentropy = 0.985\\nsamples = 14\\nvalue = [8, 0, 6, 0]'),\n",
              " Text(430.7916083916084, 24.159999999999968, 'entropy = 1.0\\nsamples = 8\\nvalue = [4, 0, 4, 0]'),\n",
              " Text(440.1566433566434, 24.159999999999968, 'entropy = 0.918\\nsamples = 6\\nvalue = [4, 0, 2, 0]'),\n",
              " Text(541.416083916084, 265.76, 'X[0] <= 3.5\\nentropy = 1.963\\nsamples = 209\\nvalue = [49, 53, 70, 37]'),\n",
              " Text(484.64055944055946, 217.44, 'X[2] <= 1.5\\nentropy = 1.902\\nsamples = 102\\nvalue = [14, 36, 33, 19]'),\n",
              " Text(458.8867132867133, 169.12, 'X[3] <= 2.5\\nentropy = 1.738\\nsamples = 26\\nvalue = [4, 8, 12, 2]'),\n",
              " Text(449.52167832167834, 120.80000000000001, 'X[1] <= 3.5\\nentropy = 1.549\\nsamples = 13\\nvalue = [3, 5, 5, 0]'),\n",
              " Text(444.83916083916085, 72.48000000000002, 'entropy = 1.459\\nsamples = 6\\nvalue = [1, 3, 2, 0]'),\n",
              " Text(454.2041958041958, 72.48000000000002, 'entropy = 1.557\\nsamples = 7\\nvalue = [2, 2, 3, 0]'),\n",
              " Text(468.25174825174827, 120.80000000000001, 'X[1] <= 3.5\\nentropy = 1.669\\nsamples = 13\\nvalue = [1, 3, 7, 2]'),\n",
              " Text(463.5692307692308, 72.48000000000002, 'entropy = 1.459\\nsamples = 6\\nvalue = [0, 2, 3, 1]'),\n",
              " Text(472.93426573426575, 72.48000000000002, 'entropy = 1.664\\nsamples = 7\\nvalue = [1, 1, 4, 1]'),\n",
              " Text(510.3944055944056, 169.12, 'X[2] <= 2.5\\nentropy = 1.912\\nsamples = 76\\nvalue = [10, 28, 21, 17]'),\n",
              " Text(491.6643356643357, 120.80000000000001, 'X[3] <= 2.5\\nentropy = 1.861\\nsamples = 27\\nvalue = [4, 12, 5, 6]'),\n",
              " Text(482.2993006993007, 72.48000000000002, 'X[1] <= 3.5\\nentropy = 1.834\\nsamples = 13\\nvalue = [2, 6, 3, 2]'),\n",
              " Text(477.61678321678323, 24.159999999999968, 'entropy = 1.842\\nsamples = 7\\nvalue = [1, 3, 2, 1]'),\n",
              " Text(486.9818181818182, 24.159999999999968, 'entropy = 1.792\\nsamples = 6\\nvalue = [1, 3, 1, 1]'),\n",
              " Text(501.02937062937065, 72.48000000000002, 'X[1] <= 3.5\\nentropy = 1.842\\nsamples = 14\\nvalue = [2, 6, 2, 4]'),\n",
              " Text(496.34685314685316, 24.159999999999968, 'entropy = 1.842\\nsamples = 7\\nvalue = [1, 3, 1, 2]'),\n",
              " Text(505.71188811188813, 24.159999999999968, 'entropy = 1.842\\nsamples = 7\\nvalue = [1, 3, 1, 2]'),\n",
              " Text(529.1244755244755, 120.80000000000001, 'X[1] <= 3.5\\nentropy = 1.909\\nsamples = 49\\nvalue = [6, 16, 16, 11]'),\n",
              " Text(519.7594405594406, 72.48000000000002, 'X[3] <= 2.5\\nentropy = 1.922\\nsamples = 25\\nvalue = [3, 7, 8, 7]'),\n",
              " Text(515.0769230769231, 24.159999999999968, 'entropy = 1.868\\nsamples = 11\\nvalue = [1, 3, 3, 4]'),\n",
              " Text(524.4419580419581, 24.159999999999968, 'entropy = 1.924\\nsamples = 14\\nvalue = [2, 4, 5, 3]'),\n",
              " Text(538.4895104895105, 72.48000000000002, 'X[2] <= 3.5\\nentropy = 1.865\\nsamples = 24\\nvalue = [3, 9, 8, 4]'),\n",
              " Text(533.806993006993, 24.159999999999968, 'entropy = 1.784\\nsamples = 12\\nvalue = [1, 4, 5, 2]'),\n",
              " Text(543.172027972028, 24.159999999999968, 'entropy = 1.888\\nsamples = 12\\nvalue = [2, 5, 3, 2]'),\n",
              " Text(598.1916083916084, 217.44, 'X[1] <= 3.5\\nentropy = 1.911\\nsamples = 107\\nvalue = [35, 17, 37, 18]'),\n",
              " Text(564.2433566433567, 169.12, 'X[2] <= 1.5\\nentropy = 1.911\\nsamples = 52\\nvalue = [9, 17, 18, 8]'),\n",
              " Text(552.537062937063, 120.80000000000001, 'X[3] <= 2.5\\nentropy = 1.485\\nsamples = 10\\nvalue = [2, 3, 5, 0]'),\n",
              " Text(547.8545454545455, 72.48000000000002, 'entropy = 1.585\\nsamples = 6\\nvalue = [2, 2, 2, 0]'),\n",
              " Text(557.2195804195804, 72.48000000000002, 'entropy = 0.811\\nsamples = 4\\nvalue = [0, 1, 3, 0]'),\n",
              " Text(575.9496503496504, 120.80000000000001, 'X[3] <= 2.5\\nentropy = 1.939\\nsamples = 42\\nvalue = [7, 14, 13, 8]'),\n",
              " Text(566.5846153846154, 72.48000000000002, 'X[2] <= 3.5\\nentropy = 1.857\\nsamples = 20\\nvalue = [4, 7, 7, 2]'),\n",
              " Text(561.9020979020979, 24.159999999999968, 'entropy = 1.924\\nsamples = 14\\nvalue = [3, 5, 4, 2]'),\n",
              " Text(571.2671328671329, 24.159999999999968, 'entropy = 1.459\\nsamples = 6\\nvalue = [1, 2, 3, 0]'),\n",
              " Text(585.3146853146853, 72.48000000000002, 'X[2] <= 2.5\\nentropy = 1.94\\nsamples = 22\\nvalue = [3, 7, 6, 6]'),\n",
              " Text(580.6321678321679, 24.159999999999968, 'entropy = 1.906\\nsamples = 8\\nvalue = [1, 3, 2, 2]'),\n",
              " Text(589.9972027972028, 24.159999999999968, 'entropy = 1.95\\nsamples = 14\\nvalue = [2, 4, 4, 4]'),\n",
              " Text(632.1398601398602, 169.12, 'X[2] <= 2.5\\nentropy = 1.488\\nsamples = 55\\nvalue = [26, 0, 19, 10]'),\n",
              " Text(613.4097902097902, 120.80000000000001, 'X[3] <= 2.5\\nentropy = 1.39\\nsamples = 26\\nvalue = [13, 0, 10, 3]'),\n",
              " Text(604.0447552447553, 72.48000000000002, 'X[2] <= 1.5\\nentropy = 1.189\\nsamples = 12\\nvalue = [8, 0, 3, 1]'),\n",
              " Text(599.3622377622378, 24.159999999999968, 'entropy = 0.722\\nsamples = 5\\nvalue = [4, 0, 1, 0]'),\n",
              " Text(608.7272727272727, 24.159999999999968, 'entropy = 1.379\\nsamples = 7\\nvalue = [4, 0, 2, 1]'),\n",
              " Text(622.7748251748252, 72.48000000000002, 'X[2] <= 1.5\\nentropy = 1.432\\nsamples = 14\\nvalue = [5, 0, 7, 2]'),\n",
              " Text(618.0923076923077, 24.159999999999968, 'entropy = 1.406\\nsamples = 8\\nvalue = [3, 0, 4, 1]'),\n",
              " Text(627.4573426573427, 24.159999999999968, 'entropy = 1.459\\nsamples = 6\\nvalue = [2, 0, 3, 1]'),\n",
              " Text(650.8699300699301, 120.80000000000001, 'X[3] <= 2.5\\nentropy = 1.538\\nsamples = 29\\nvalue = [13, 0, 9, 7]'),\n",
              " Text(641.5048951048951, 72.48000000000002, 'X[2] <= 3.5\\nentropy = 1.506\\nsamples = 15\\nvalue = [7, 0, 5, 3]'),\n",
              " Text(636.8223776223776, 24.159999999999968, 'entropy = 1.449\\nsamples = 7\\nvalue = [3, 0, 3, 1]'),\n",
              " Text(646.1874125874126, 24.159999999999968, 'entropy = 1.5\\nsamples = 8\\nvalue = [4, 0, 2, 2]'),\n",
              " Text(660.2349650349651, 72.48000000000002, 'X[2] <= 3.5\\nentropy = 1.557\\nsamples = 14\\nvalue = [6, 0, 4, 4]'),\n",
              " Text(655.5524475524476, 24.159999999999968, 'entropy = 1.557\\nsamples = 7\\nvalue = [3, 0, 2, 2]'),\n",
              " Text(664.9174825174825, 24.159999999999968, 'entropy = 1.557\\nsamples = 7\\nvalue = [3, 0, 2, 2]')]"
            ]
          },
          "metadata": {
            "tags": []
          },
          "execution_count": 21
        },
        {
          "output_type": "display_data",
          "data": {
            "image/png": "[encoded data removed]",
            "text/plain": [
              "<Figure size 864x576 with 1 Axes>"
            ]
          },
          "metadata": {
            "tags": [],
            "needs_background": "light"
          }
        }
      ]
    },
    {
      "cell_type": "code",
      "metadata": {
        "trusted": true,
        "id": "EG6YihS21eh2",
        "colab_type": "code",
        "colab": {
          "base_uri": "https://localhost:8080/",
          "height": 51
        },
        "outputId": "a725ee24-d6f2-4da5-f1d8-ee9a1da2abb1"
      },
      "source": [
        "\n",
        "print('Training set score: {:.4f}'.format(clf_en.score(X_train, y_train)))\n",
        "\n",
        "print('Test set score: {:.4f}'.format(clf_en.score(X_test, y_test)))"
      ],
      "execution_count": 22,
      "outputs": [
        {
          "output_type": "stream",
          "text": [
            "Training set score: 0.7502\n",
            "Test set score: 0.6628\n"
          ],
          "name": "stdout"
        }
      ]
    }
  ]
}